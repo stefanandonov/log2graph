{
 "cells": [
  {
   "cell_type": "code",
   "execution_count": 1,
   "metadata": {},
   "outputs": [],
   "source": [
    "from datasets.bgl_dataset import BGLDataset"
   ]
  },
  {
   "cell_type": "code",
   "execution_count": 2,
   "metadata": {},
   "outputs": [
    {
     "name": "stdout",
     "output_type": "stream",
     "text": [
      "Parsing file: ../data/bgl/unparsed/processed_logs.log\n",
      "Processed 12.5% of log lines.\n",
      "Processed 25.0% of log lines.\n",
      "Processed 37.5% of log lines.\n",
      "Processed 50.0% of log lines.\n",
      "Processed 62.5% of log lines.\n",
      "Processed 75.0% of log lines.\n",
      "Processed 87.5% of log lines.\n",
      "Processed 100.0% of log lines.\n",
      "Parsing done. [Time taken: 0:00:01.538498]\n",
      "                   timestamp  event_id\n",
      "0 2005-06-03 15:42:50.675872  3aa50e45\n",
      "1 2005-06-03 15:42:53.276129  3aa50e45\n",
      "2 2005-06-03 15:49:36.156884  3aa50e45\n",
      "3 2005-06-03 15:49:38.026704  3aa50e45\n",
      "4 2005-06-03 16:47:20.730545  6265c739\n",
      "7997\n"
     ]
    }
   ],
   "source": [
    "dataset = BGLDataset()\n",
    "dataset.load_logs()"
   ]
  },
  {
   "cell_type": "code",
   "execution_count": null,
   "metadata": {},
   "outputs": [],
   "source": [
    "print(dataset.create_graphs(\"thumbling\", 6000000, 600000, 0))"
   ]
  }
 ],
 "metadata": {
  "interpreter": {
   "hash": "e7370f93d1d0cde622a1f8e1c04877d8463912d04d973331ad4851f04de6915a"
  },
  "kernelspec": {
   "display_name": "Python 3.10.2 64-bit",
   "language": "python",
   "name": "python3"
  },
  "language_info": {
   "codemirror_mode": {
    "name": "ipython",
    "version": 3
   },
   "file_extension": ".py",
   "mimetype": "text/x-python",
   "name": "python",
   "nbconvert_exporter": "python",
   "pygments_lexer": "ipython3",
   "version": "3.10.2"
  },
  "orig_nbformat": 4
 },
 "nbformat": 4,
 "nbformat_minor": 2
}
